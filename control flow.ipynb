{
 "cells": [
  {
   "cell_type": "code",
   "execution_count": 1,
   "id": "9382cac4-6fd5-43d7-989a-0394c7a2694e",
   "metadata": {},
   "outputs": [
    {
     "name": "stdout",
     "output_type": "stream",
     "text": [
      "today is mon\n",
      "today is tue\n",
      "today is tue\n",
      "today is wed\n",
      "today is thu\n",
      "today is fri\n",
      "today is sat\n"
     ]
    }
   ],
   "source": [
    "number = 0\n",
    "days = 0\n",
    "week =[\"mon\",\"tue\",\"tue\",\"wed\",\"thu\",\"fri\",\"sat\"]\n",
    "while days<7:\n",
    "    print(\"today is \"+week [days])\n",
    "    days+=1"
   ]
  },
  {
   "cell_type": "code",
   "execution_count": 2,
   "id": "2872f920-675d-40d7-86c5-bde6eb7668dd",
   "metadata": {},
   "outputs": [
    {
     "name": "stdout",
     "output_type": "stream",
     "text": [
      "Rainbow has violet\n",
      "Rainbow has blue\n",
      "Rainbow has green\n",
      "Rainbow has yellow\n",
      "Rainbow has orange\n",
      "Rainbow has indigo\n",
      "Rainbow has red\n"
     ]
    }
   ],
   "source": [
    "number = 0\n",
    "type = 0\n",
    "clr = [\"violet\", \"blue\", \"green\", \"yellow\", \"orange\", \"indigo\", \"red\"]\n",
    "\n",
    "while number < 7:  \n",
    "    print(\"Rainbow has \" + clr[type])\n",
    "    number += 1  \n",
    "    type = (type + 1) % 7 \n"
   ]
  },
  {
   "cell_type": "code",
   "execution_count": 3,
   "id": "18df99dc-e159-429c-899e-dcd65ba66e96",
   "metadata": {},
   "outputs": [
    {
     "name": "stdin",
     "output_type": "stream",
     "text": [
      "enter three word message welcome to pwskills\n"
     ]
    }
   ],
   "source": [
    "x = input(\"enter three word message\")"
   ]
  },
  {
   "cell_type": "code",
   "execution_count": 4,
   "id": "e0f728db-fd49-4cc3-ba35-9f4abbaa0343",
   "metadata": {},
   "outputs": [
    {
     "data": {
      "text/plain": [
       "'welcome to pwskills'"
      ]
     },
     "execution_count": 4,
     "metadata": {},
     "output_type": "execute_result"
    }
   ],
   "source": [
    "x"
   ]
  },
  {
   "cell_type": "code",
   "execution_count": 9,
   "id": "3fdffccd-de72-45f7-b25b-15c1249d17b5",
   "metadata": {},
   "outputs": [
    {
     "name": "stdin",
     "output_type": "stream",
     "text": [
      "enter 1st number 12\n",
      "enter 2nd number 12\n"
     ]
    },
    {
     "name": "stdout",
     "output_type": "stream",
     "text": [
      "24\n"
     ]
    }
   ],
   "source": [
    "a = int(input(\"enter 1st number\"))\n",
    "b = int(input(\"enter 2nd number\"))\n",
    "print(a+b)"
   ]
  },
  {
   "cell_type": "code",
   "execution_count": 10,
   "id": "30588789-6a18-45f2-903b-f771a7bf7f5a",
   "metadata": {},
   "outputs": [
    {
     "name": "stdin",
     "output_type": "stream",
     "text": [
      "enter two number sepatated by spaces 6 8\n"
     ]
    },
    {
     "name": "stdout",
     "output_type": "stream",
     "text": [
      "14\n"
     ]
    }
   ],
   "source": [
    "x = input(\"enter two number sepatated by spaces\")\n",
    "sum=int(x.split()[0])+int(x.split()[1])\n",
    "print(sum)"
   ]
  },
  {
   "cell_type": "code",
   "execution_count": 12,
   "id": "aafa8869-1c0f-43c0-a754-7a0d8133da82",
   "metadata": {},
   "outputs": [
    {
     "name": "stdin",
     "output_type": "stream",
     "text": [
      "enter two number separated by spaces 6 3\n"
     ]
    },
    {
     "name": "stdout",
     "output_type": "stream",
     "text": [
      "18\n"
     ]
    }
   ],
   "source": [
    "x = input(\"enter two number separated by spaces\")\n",
    "mul=int(x.split()[0])*int(x.split()[1])\n",
    "print(mul)"
   ]
  },
  {
   "cell_type": "code",
   "execution_count": 14,
   "id": "8636c1e3-49e9-4843-abd2-0f7db5b2e07f",
   "metadata": {},
   "outputs": [
    {
     "name": "stdin",
     "output_type": "stream",
     "text": [
      "enter two number 6 7\n"
     ]
    },
    {
     "name": "stdout",
     "output_type": "stream",
     "text": [
      "13\n"
     ]
    }
   ],
   "source": [
    "a,b = input(\"enter two number\").split()\n",
    "c = int(a)+int(b)\n",
    "print(c)"
   ]
  },
  {
   "cell_type": "code",
   "execution_count": 17,
   "id": "83e10458-2bdd-48d7-bf67-b30ae26e2bd0",
   "metadata": {},
   "outputs": [
    {
     "name": "stdin",
     "output_type": "stream",
     "text": [
      "enter roll number,name & percentage 12 Dhruv 87\n"
     ]
    },
    {
     "name": "stdout",
     "output_type": "stream",
     "text": [
      "12\n",
      "Dhruv\n",
      "87\n"
     ]
    }
   ],
   "source": [
    "s = input(\"enter roll number,name & percentage\")\n",
    "roll,name,percentage=s.split()\n",
    "print(roll)\n",
    "print(name)\n",
    "print(percentage)"
   ]
  },
  {
   "cell_type": "code",
   "execution_count": 19,
   "id": "79cfa5d1-1c27-4e39-a40b-2494cfdbd75a",
   "metadata": {},
   "outputs": [
    {
     "name": "stdout",
     "output_type": "stream",
     "text": [
      "['A', 'B', 'C', 'D', 'E F']\n"
     ]
    }
   ],
   "source": [
    "s1 = \"A B C D E F\"\n",
    "print(s1.split(' ',4))"
   ]
  },
  {
   "cell_type": "code",
   "execution_count": 24,
   "id": "20dd38b2-5f5d-4446-85cb-ff68bacd8fcb",
   "metadata": {},
   "outputs": [
    {
     "data": {
      "text/plain": [
       "['pw', 'pw', 'pw', 'pw', 'pw', 'pw@']"
      ]
     },
     "execution_count": 24,
     "metadata": {},
     "output_type": "execute_result"
    }
   ],
   "source": [
    "s1 = \"pw@pw@pw@pw@pw@pw@\"\n",
    "(s1.split('@',5))"
   ]
  },
  {
   "cell_type": "code",
   "execution_count": 25,
   "id": "14ec23b6-3803-4689-affb-40285e680d48",
   "metadata": {},
   "outputs": [
    {
     "name": "stdout",
     "output_type": "stream",
     "text": [
      "letter p\n",
      "letter w\n",
      "letter s\n",
      "letter k\n",
      "letter i\n",
      "letter i\n",
      "letter l\n",
      "letter s\n"
     ]
    }
   ],
   "source": [
    "for letter in \"pwskiils\":\n",
    "    print('letter',letter)"
   ]
  },
  {
   "cell_type": "code",
   "execution_count": 1,
   "id": "d96d5521-8fb9-46a0-b1d2-7037ff035376",
   "metadata": {},
   "outputs": [
    {
     "name": "stdout",
     "output_type": "stream",
     "text": [
      "letter p\n",
      "letter w\n",
      "letter s\n",
      "letter k\n",
      "letter i\n"
     ]
    }
   ],
   "source": [
    "for letter in \"pwskills\":\n",
    "    if letter == \"l\":\n",
    "        break\n",
    "    print('letter',letter)"
   ]
  },
  {
   "cell_type": "code",
   "execution_count": 2,
   "id": "ac2c19e8-b2bd-4af1-a49e-d70457fd72a7",
   "metadata": {},
   "outputs": [
    {
     "name": "stdout",
     "output_type": "stream",
     "text": [
      "letter w\n",
      "letter e\n",
      "letter l\n",
      "letter c\n",
      "letter o\n",
      "letter m\n",
      "letter e\n",
      "letter t\n",
      "letter o\n"
     ]
    }
   ],
   "source": [
    "for letter in \"welcometopwskills\":\n",
    "    if letter == \"p\":\n",
    "        break\n",
    "    print('letter',letter)"
   ]
  },
  {
   "cell_type": "code",
   "execution_count": 3,
   "id": "9bc5deef-7049-407c-8516-8b57e58bc8c6",
   "metadata": {},
   "outputs": [
    {
     "name": "stdout",
     "output_type": "stream",
     "text": [
      "1\n",
      "2\n",
      "3\n",
      "4\n",
      "5\n"
     ]
    }
   ],
   "source": [
    "i = 1\n",
    "while i<=10:\n",
    "    print(i)\n",
    "    if i>=5:\n",
    "        break\n",
    "    i = i+1\n",
    "    \n",
    "    "
   ]
  },
  {
   "cell_type": "code",
   "execution_count": 1,
   "id": "0f03c4ca-69bd-4fff-9ab5-f0c9f7aaa7ea",
   "metadata": {},
   "outputs": [
    {
     "name": "stdout",
     "output_type": "stream",
     "text": [
      "1\n",
      "2\n",
      "3\n",
      "4\n",
      "5\n",
      "6\n",
      "7\n",
      "8\n",
      "9\n"
     ]
    }
   ],
   "source": [
    "i = 1\n",
    "while i<=15:\n",
    "    print(i)\n",
    "    if i>=9:\n",
    "        break\n",
    "    i = i+1"
   ]
  },
  {
   "cell_type": "code",
   "execution_count": 2,
   "id": "beb84345-5f1e-4df9-ba0a-f4a6a1689a97",
   "metadata": {},
   "outputs": [
    {
     "name": "stdout",
     "output_type": "stream",
     "text": [
      "10\n",
      "20\n",
      "30\n",
      "40\n",
      "120\n"
     ]
    }
   ],
   "source": [
    "numbers = [10,20,30,40,120,140,150,130]\n",
    "for i in numbers:\n",
    "    if i>120:\n",
    "        break\n",
    "    print(i)"
   ]
  },
  {
   "cell_type": "code",
   "execution_count": 4,
   "id": "03aed21d-7cd7-431f-b219-37c9c973fb2b",
   "metadata": {},
   "outputs": [
    {
     "name": "stdout",
     "output_type": "stream",
     "text": [
      "0\n",
      "1\n",
      "2\n",
      "3\n"
     ]
    }
   ],
   "source": [
    "for i in range(5):\n",
    "    if i == 4:\n",
    "        break\n",
    "    print(i)"
   ]
  },
  {
   "cell_type": "code",
   "execution_count": 5,
   "id": "03c03827-890e-44e8-9be1-8b045823b38a",
   "metadata": {},
   "outputs": [
    {
     "name": "stdout",
     "output_type": "stream",
     "text": [
      "h\n",
      "e\n",
      "l\n",
      "l\n",
      "o\n",
      " \n",
      ",\n"
     ]
    }
   ],
   "source": [
    "s = \"hello ,world\"\n",
    "for char in s:\n",
    "    print(char)\n",
    "    if char==',':\n",
    "        break"
   ]
  },
  {
   "cell_type": "code",
   "execution_count": 8,
   "id": "3fd5602c-1e9c-4ae8-a748-86bcc73ee691",
   "metadata": {},
   "outputs": [
    {
     "name": "stdout",
     "output_type": "stream",
     "text": [
      "d\n",
      "h\n",
      "r\n",
      "u\n",
      "v\n",
      " \n",
      ",\n"
     ]
    }
   ],
   "source": [
    "s = \"dhruv ,goswami\"\n",
    "for char in s:\n",
    "    print(char)\n",
    "    if char==',':\n",
    "        break"
   ]
  },
  {
   "cell_type": "code",
   "execution_count": 9,
   "id": "9ee7d81f-105d-483b-8c9b-bf22a73d9321",
   "metadata": {},
   "outputs": [
    {
     "name": "stdout",
     "output_type": "stream",
     "text": [
      "d\n",
      "h\n",
      "r\n",
      "u\n",
      "v\n",
      " \n",
      ",\n",
      "g\n",
      "o\n",
      "s\n",
      "w\n",
      "a\n",
      "m\n",
      "i\n"
     ]
    }
   ],
   "source": [
    "s = \"dhruv ,goswami\"\n",
    "for char in s:\n",
    "    print(char)\n",
    "    if char==' , ':\n",
    "        break"
   ]
  },
  {
   "cell_type": "code",
   "execution_count": 11,
   "id": "c1703598-0d37-442c-9209-f3810173da64",
   "metadata": {},
   "outputs": [
    {
     "name": "stdout",
     "output_type": "stream",
     "text": [
      "p\n",
      "w\n",
      "s\n",
      "k\n",
      "l\n",
      "l\n",
      "s\n"
     ]
    }
   ],
   "source": [
    "for letter in \"pwskills\":\n",
    "    if letter == 'i':\n",
    "        continue\n",
    "    print(letter)"
   ]
  },
  {
   "cell_type": "code",
   "execution_count": 12,
   "id": "82910c1c-a557-4298-a314-57c3ffba429b",
   "metadata": {},
   "outputs": [
    {
     "name": "stdout",
     "output_type": "stream",
     "text": [
      "0\n",
      "1\n",
      "2\n",
      "3\n",
      "4\n",
      "5\n",
      "6\n",
      "7\n",
      "8\n"
     ]
    }
   ],
   "source": [
    "for i in range(10):\n",
    "    if i == 9:\n",
    "        continue\n",
    "    print(i)"
   ]
  },
  {
   "cell_type": "code",
   "execution_count": 13,
   "id": "0fe66fa9-b76d-4630-a9ab-354205a95cbb",
   "metadata": {},
   "outputs": [
    {
     "name": "stdout",
     "output_type": "stream",
     "text": [
      "0\n",
      "1\n",
      "2\n",
      "3\n",
      "4\n",
      "5\n",
      "6\n",
      "7\n",
      "8\n",
      "10\n"
     ]
    }
   ],
   "source": [
    "for i in range(11):\n",
    "    if i == 9:\n",
    "        continue\n",
    "    print(i)"
   ]
  },
  {
   "cell_type": "code",
   "execution_count": 15,
   "id": "a19b66f2-34b1-493f-8eb0-bbdcf6e7d6b7",
   "metadata": {},
   "outputs": [
    {
     "name": "stdout",
     "output_type": "stream",
     "text": [
      "1\n",
      "3\n",
      "5\n",
      "7\n",
      "9\n"
     ]
    }
   ],
   "source": [
    "for i in range(1,11):\n",
    "    if i%2==0:\n",
    "        continue\n",
    "    print(i)"
   ]
  },
  {
   "cell_type": "code",
   "execution_count": 16,
   "id": "91c88d5c-c7bd-4f3a-a237-a6258a1005f7",
   "metadata": {},
   "outputs": [
    {
     "name": "stdout",
     "output_type": "stream",
     "text": [
      "3\n",
      "5\n",
      "7\n",
      "9\n",
      "11\n",
      "13\n",
      "15\n"
     ]
    }
   ],
   "source": [
    "for i in range(2,16):\n",
    "    if i%2==0:\n",
    "        continue\n",
    "    print(i)"
   ]
  },
  {
   "cell_type": "code",
   "execution_count": 17,
   "id": "71907d62-0ed4-492e-b06d-36fa40fdc245",
   "metadata": {},
   "outputs": [
    {
     "name": "stdout",
     "output_type": "stream",
     "text": [
      "1\n",
      "2\n",
      "4\n",
      "5\n",
      "7\n",
      "8\n",
      "10\n"
     ]
    }
   ],
   "source": [
    "for i in range(1,11):\n",
    "    if i%3==0:\n",
    "        continue\n",
    "    print(i)"
   ]
  },
  {
   "cell_type": "code",
   "execution_count": 18,
   "id": "8e3624c9-ecfb-4314-b488-03e5ece5e090",
   "metadata": {},
   "outputs": [
    {
     "name": "stdout",
     "output_type": "stream",
     "text": [
      "1\n",
      "3\n",
      "5\n",
      "7\n",
      "9\n"
     ]
    }
   ],
   "source": [
    "for i in range(1,11):\n",
    "    if i%2!=0:\n",
    "        print(i)\n",
    "    else:\n",
    "        continue"
   ]
  },
  {
   "cell_type": "code",
   "execution_count": 19,
   "id": "ff49db09-770a-42fa-ab92-5205bf92aa2a",
   "metadata": {},
   "outputs": [
    {
     "name": "stdout",
     "output_type": "stream",
     "text": [
      "1\n",
      "2\n",
      "4\n",
      "5\n",
      "7\n",
      "8\n",
      "10\n"
     ]
    }
   ],
   "source": [
    "for i in range(1,11):\n",
    "    if i%3!=0:\n",
    "        print(i)\n",
    "    else:\n",
    "        continue"
   ]
  },
  {
   "cell_type": "code",
   "execution_count": 26,
   "id": "8f0d4201-1550-4baf-8cf2-0a731280a004",
   "metadata": {},
   "outputs": [
    {
     "name": "stdout",
     "output_type": "stream",
     "text": [
      "4\n"
     ]
    }
   ],
   "source": [
    "for i in range(5):\n",
    "    if i==1:\n",
    "        pass\n",
    "    \n",
    "print(i)"
   ]
  },
  {
   "cell_type": "code",
   "execution_count": 24,
   "id": "080eb08e-ebf3-4c1d-9d6b-50eecc4b3d0b",
   "metadata": {},
   "outputs": [
    {
     "name": "stdout",
     "output_type": "stream",
     "text": [
      "9\n"
     ]
    }
   ],
   "source": [
    "for i in range(10):\n",
    "    if i == 1:\n",
    "        pass\n",
    "print(i)"
   ]
  },
  {
   "cell_type": "code",
   "execution_count": 1,
   "id": "e180c46b-2a98-4474-beb2-abf33a1fd5fc",
   "metadata": {},
   "outputs": [
    {
     "name": "stdout",
     "output_type": "stream",
     "text": [
      "9\n"
     ]
    }
   ],
   "source": [
    "for i in range(10):\n",
    "    if i == 1:\n",
    "        pass\n",
    "print(i)"
   ]
  },
  {
   "cell_type": "code",
   "execution_count": 2,
   "id": "fed921f5-d73b-483f-a106-15150a7640fe",
   "metadata": {},
   "outputs": [
    {
     "name": "stdout",
     "output_type": "stream",
     "text": [
      "apple\n",
      "banana\n",
      "cherry\n"
     ]
    }
   ],
   "source": [
    "fruits = [\"apple\", \"banana\", \"cherry\"]\n",
    "\n",
    "for fruit in fruits:\n",
    "    print(fruit)"
   ]
  },
  {
   "cell_type": "code",
   "execution_count": 3,
   "id": "038354ee-afb0-49c8-8d93-c6d6ac602e14",
   "metadata": {},
   "outputs": [
    {
     "name": "stdout",
     "output_type": "stream",
     "text": [
      "0\n",
      "1\n",
      "2\n",
      "3\n",
      "4\n"
     ]
    }
   ],
   "source": [
    "count = 0\n",
    "\n",
    "while count < 5:\n",
    "    print(count)\n",
    "    count += 1"
   ]
  },
  {
   "cell_type": "code",
   "execution_count": 4,
   "id": "a3ad5bd9-e2f7-482c-9d0d-7ea9cc10d9d7",
   "metadata": {},
   "outputs": [
    {
     "name": "stdout",
     "output_type": "stream",
     "text": [
      "Cannot divide by zero\n"
     ]
    }
   ],
   "source": [
    "try:\n",
    "    result = 10 / 0\n",
    "except ZeroDivisionError:\n",
    "    print(\"Cannot divide by zero\")"
   ]
  },
  {
   "cell_type": "code",
   "execution_count": 5,
   "id": "588ba734-77a1-4261-887e-c61884ff4046",
   "metadata": {},
   "outputs": [
    {
     "name": "stdout",
     "output_type": "stream",
     "text": [
      "(0, 0)\n",
      "(0, 1)\n",
      "(0, 2)\n",
      "(1, 0)\n",
      "(1, 1)\n",
      "(1, 2)\n",
      "(2, 0)\n",
      "(2, 1)\n",
      "(2, 2)\n"
     ]
    }
   ],
   "source": [
    "for i in range(3):\n",
    "    for j in range(3):\n",
    "        print(f\"({i}, {j})\")"
   ]
  },
  {
   "cell_type": "code",
   "execution_count": 6,
   "id": "7c987899-06da-4e75-9c65-06df4426f143",
   "metadata": {},
   "outputs": [
    {
     "name": "stdout",
     "output_type": "stream",
     "text": [
      "0\n",
      "1\n",
      "2\n",
      "4\n"
     ]
    }
   ],
   "source": [
    "for i in range(5):\n",
    "    if i == 3:\n",
    "        pass\n",
    "    else:\n",
    "        print(i)"
   ]
  },
  {
   "cell_type": "code",
   "execution_count": 7,
   "id": "048057fb-607f-448c-a4f7-b9ef107cde6c",
   "metadata": {},
   "outputs": [
    {
     "name": "stdout",
     "output_type": "stream",
     "text": [
      "0\n",
      "1\n",
      "2\n",
      "3\n",
      "4\n",
      "5\n",
      "6\n",
      "7\n",
      "8\n",
      "9\n"
     ]
    }
   ],
   "source": [
    "for i in range(10):\n",
    "    if i == 1:\n",
    "        pass\n",
    "    print(i)"
   ]
  },
  {
   "cell_type": "code",
   "execution_count": 17,
   "id": "ee288b5b-a5c8-4a39-bf14-eb742803ebdb",
   "metadata": {},
   "outputs": [
    {
     "name": "stdout",
     "output_type": "stream",
     "text": [
      "apple\n",
      "banana\n",
      "cherry\n"
     ]
    }
   ],
   "source": [
    "fruits = [\"apple\", \"banana\", \"cherry\"]\n",
    "for fruit in fruits:\n",
    "    print(fruit)"
   ]
  },
  {
   "cell_type": "code",
   "execution_count": 18,
   "id": "6c96dfa9-f9a5-4cae-a5ce-59befdc4990c",
   "metadata": {},
   "outputs": [
    {
     "name": "stdout",
     "output_type": "stream",
     "text": [
      "x is positive\n"
     ]
    }
   ],
   "source": [
    "x = 5\n",
    "if x < 0:\n",
    "    print(\"x is negative\")\n",
    "elif x == 0:\n",
    "    print(\"x is zero\")\n",
    "else:\n",
    "    print(\"x is positive\")"
   ]
  },
  {
   "cell_type": "code",
   "execution_count": 19,
   "id": "5c75ff72-a3dd-4102-a6fe-7f642011e457",
   "metadata": {},
   "outputs": [
    {
     "name": "stdout",
     "output_type": "stream",
     "text": [
      "0\n",
      "1\n",
      "2\n",
      "3\n",
      "4\n",
      "5\n"
     ]
    }
   ],
   "source": [
    "for i in range(10):\n",
    "    print(i)\n",
    "    if i == 5:\n",
    "        break"
   ]
  },
  {
   "cell_type": "code",
   "execution_count": 20,
   "id": "b025d46f-703f-45a8-ad1f-f9ef0a7ac74e",
   "metadata": {},
   "outputs": [
    {
     "name": "stdout",
     "output_type": "stream",
     "text": [
      "1\n",
      "3\n",
      "5\n",
      "7\n",
      "9\n"
     ]
    }
   ],
   "source": [
    "for i in range(10):\n",
    "    if i % 2 == 0:\n",
    "        continue\n",
    "    print(i)"
   ]
  },
  {
   "cell_type": "code",
   "execution_count": 21,
   "id": "7620b246-0212-4947-a3f3-ee635e116f28",
   "metadata": {},
   "outputs": [
    {
     "name": "stdout",
     "output_type": "stream",
     "text": [
      "['Hello,', 'world!', 'This', 'is', 'a', 'test.']\n"
     ]
    }
   ],
   "source": [
    "string = \"Hello, world! This is a test.\"\n",
    "result = string.split()\n",
    "print(result)"
   ]
  },
  {
   "cell_type": "code",
   "execution_count": 23,
   "id": "c63022aa-d986-49b7-86ff-6d3472911a1a",
   "metadata": {},
   "outputs": [
    {
     "name": "stdout",
     "output_type": "stream",
     "text": [
      "['apple', 'banana', 'orange,grapes']\n"
     ]
    }
   ],
   "source": [
    "string = \"apple,banana,orange,grapes\"\n",
    "result = string.split(',', maxsplit=2)\n",
    "print(result)\n"
   ]
  },
  {
   "cell_type": "code",
   "execution_count": 29,
   "id": "27af16f8-bad7-4b02-bcb8-e9a43c8e0a43",
   "metadata": {},
   "outputs": [
    {
     "name": "stdin",
     "output_type": "stream",
     "text": [
      "enter two number sepatated by spaces 5 8\n"
     ]
    },
    {
     "name": "stdout",
     "output_type": "stream",
     "text": [
      "40\n"
     ]
    }
   ],
   "source": [
    "x = input(\"enter two number sepatated by spaces\")\n",
    "mul=int(x.split()[0])*int(x.split()[1])\n",
    "print(mul)"
   ]
  },
  {
   "cell_type": "code",
   "execution_count": 30,
   "id": "593c6d29-deab-41ec-99b4-b7825234e57d",
   "metadata": {},
   "outputs": [
    {
     "name": "stdin",
     "output_type": "stream",
     "text": [
      "enter roll number,name & percentage 55 sudh 98\n"
     ]
    },
    {
     "name": "stdout",
     "output_type": "stream",
     "text": [
      "55\n",
      "sudh\n",
      "98\n"
     ]
    }
   ],
   "source": [
    "s = input(\"enter roll number,name & percentage\")\n",
    "roll,name,percentage=s.split()\n",
    "print(roll)\n",
    "print(name)\n",
    "print(percentage)"
   ]
  },
  {
   "cell_type": "code",
   "execution_count": null,
   "id": "1579a90f-877d-4e7e-af1f-ec7567e9d74e",
   "metadata": {},
   "outputs": [],
   "source": []
  }
 ],
 "metadata": {
  "kernelspec": {
   "display_name": "Python 3 (ipykernel)",
   "language": "python",
   "name": "python3"
  },
  "language_info": {
   "codemirror_mode": {
    "name": "ipython",
    "version": 3
   },
   "file_extension": ".py",
   "mimetype": "text/x-python",
   "name": "python",
   "nbconvert_exporter": "python",
   "pygments_lexer": "ipython3",
   "version": "3.10.8"
  }
 },
 "nbformat": 4,
 "nbformat_minor": 5
}
